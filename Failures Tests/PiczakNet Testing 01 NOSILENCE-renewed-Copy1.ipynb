{
 "cells": [
  {
   "cell_type": "code",
   "execution_count": 1,
   "id": "collected-arlington",
   "metadata": {},
   "outputs": [
    {
     "name": "stdout",
     "output_type": "stream",
     "text": [
      "[name: \"/device:CPU:0\"\n",
      "device_type: \"CPU\"\n",
      "memory_limit: 268435456\n",
      "locality {\n",
      "}\n",
      "incarnation: 3769344547785098055\n",
      ", name: \"/device:XLA_CPU:0\"\n",
      "device_type: \"XLA_CPU\"\n",
      "memory_limit: 17179869184\n",
      "locality {\n",
      "}\n",
      "incarnation: 2617929073012433212\n",
      "physical_device_desc: \"device: XLA_CPU device\"\n",
      ", name: \"/device:GPU:0\"\n",
      "device_type: \"GPU\"\n",
      "memory_limit: 7046801664\n",
      "locality {\n",
      "  bus_id: 1\n",
      "  links {\n",
      "  }\n",
      "}\n",
      "incarnation: 9272413529168062530\n",
      "physical_device_desc: \"device: 0, name: GeForce GTX 1070, pci bus id: 0000:01:00.0, compute capability: 6.1\"\n",
      ", name: \"/device:XLA_GPU:0\"\n",
      "device_type: \"XLA_GPU\"\n",
      "memory_limit: 17179869184\n",
      "locality {\n",
      "}\n",
      "incarnation: 2869875342047293726\n",
      "physical_device_desc: \"device: XLA_GPU device\"\n",
      "]\n"
     ]
    }
   ],
   "source": [
    "import numpy as np\n",
    "import pandas as pd\n",
    "import librosa\n",
    "\n",
    "import os\n",
    "import time\n",
    "import re\n",
    "from tqdm import tqdm\n",
    "import h5py\n",
    "\n",
    "import tensorflow as tf\n",
    "from tensorflow.keras.utils import to_categorical, plot_model\n",
    "\n",
    "import matplotlib.pyplot as plt\n",
    "import IPython.display\n",
    "import librosa.display\n",
    "\n",
    "import ESC\n",
    "\n",
    "# Use GPU\n",
    "from tensorflow.python.client import device_lib \n",
    "print(device_lib.list_local_devices())"
   ]
  },
  {
   "cell_type": "markdown",
   "id": "eight-dining",
   "metadata": {},
   "source": [
    "## Define the Network"
   ]
  },
  {
   "cell_type": "code",
   "execution_count": 2,
   "id": "applicable-assets",
   "metadata": {},
   "outputs": [
    {
     "name": "stdout",
     "output_type": "stream",
     "text": [
      "Model: \"PiczakNet\"\n",
      "_________________________________________________________________\n",
      "Layer (type)                 Output Shape              Param #   \n",
      "=================================================================\n",
      "input_1 (InputLayer)         [(None, 60, 41, 2)]       0         \n",
      "_________________________________________________________________\n",
      "conv0 (Conv2D)               (None, 60, 41, 80)        54800     \n",
      "_________________________________________________________________\n",
      "activation (Activation)      (None, 60, 41, 80)        0         \n",
      "_________________________________________________________________\n",
      "max_pooling2d (MaxPooling2D) (None, 60, 14, 80)        0         \n",
      "_________________________________________________________________\n",
      "dropout (Dropout)            (None, 60, 14, 80)        0         \n",
      "_________________________________________________________________\n",
      "conv1 (Conv2D)               (None, 60, 14, 80)        19280     \n",
      "_________________________________________________________________\n",
      "activation_1 (Activation)    (None, 60, 14, 80)        0         \n",
      "_________________________________________________________________\n",
      "max_pooling2d_1 (MaxPooling2 (None, 60, 5, 80)         0         \n",
      "_________________________________________________________________\n",
      "flatten (Flatten)            (None, 24000)             0         \n",
      "_________________________________________________________________\n",
      "fc0 (Dense)                  (None, 5000)              120005000 \n",
      "_________________________________________________________________\n",
      "dropout_1 (Dropout)          (None, 5000)              0         \n",
      "_________________________________________________________________\n",
      "fc1 (Dense)                  (None, 5000)              25005000  \n",
      "_________________________________________________________________\n",
      "dropout_2 (Dropout)          (None, 5000)              0         \n",
      "_________________________________________________________________\n",
      "out (Dense)                  (None, 50)                250050    \n",
      "=================================================================\n",
      "Total params: 145,334,130\n",
      "Trainable params: 145,334,130\n",
      "Non-trainable params: 0\n",
      "_________________________________________________________________\n",
      "None\n"
     ]
    }
   ],
   "source": [
    "PiczakNet = ESC.PiczakNet([60, 41, 2])\n",
    "\n",
    "print(PiczakNet.summary())\n",
    "\n",
    "plot_model(PiczakNet, show_shapes=True, show_layer_names=True)\n",
    "\n",
    "opt = tf.keras.optimizers.Adam(lr=0.0002)\n",
    "PiczakNet.compile(optimizer=opt, loss=\"categorical_crossentropy\", metrics=[\"accuracy\"])"
   ]
  },
  {
   "cell_type": "markdown",
   "id": "recovered-extra",
   "metadata": {},
   "source": [
    "## Load Data"
   ]
  },
  {
   "cell_type": "code",
   "execution_count": 3,
   "id": "distinguished-editing",
   "metadata": {},
   "outputs": [],
   "source": [
    "# Load\n",
    "af1, alf1 = ESC.Load_Augmented(name='af1', path='Augmented_2/')\n",
    "af2, alf2 = ESC.Load_Augmented(name='af2', path='Augmented_2/')\n",
    "af3, alf3 = ESC.Load_Augmented(name='af3', path='Augmented_2/')\n",
    "af4, alf4 = ESC.Load_Augmented(name='af4', path='Augmented_2/')\n",
    "af5, alf5 = ESC.Load_Augmented(name='af5', path='Augmented_2/')"
   ]
  },
  {
   "cell_type": "code",
   "execution_count": 5,
   "id": "leading-robert",
   "metadata": {},
   "outputs": [
    {
     "name": "stderr",
     "output_type": "stream",
     "text": [
      "100%|██████████| 2000/2000 [00:13<00:00, 143.63it/s]\n",
      "100%|██████████| 2000/2000 [00:13<00:00, 148.58it/s]\n",
      "100%|██████████| 2000/2000 [00:13<00:00, 150.75it/s]\n",
      "100%|██████████| 2000/2000 [00:13<00:00, 147.59it/s]\n",
      "100%|██████████| 2000/2000 [00:13<00:00, 147.54it/s]\n"
     ]
    }
   ],
   "source": [
    "# Compute the features\n",
    "f1_processed, lf1_processed = ESC.Preprocessing(af1, alf1)\n",
    "f2_processed, lf2_processed = ESC.Preprocessing(af2, alf2)\n",
    "f3_processed, lf3_processed = ESC.Preprocessing(af3, alf3)\n",
    "f4_processed, lf4_processed = ESC.Preprocessing(af4, alf4)\n",
    "f5_processed, lf5_processed = ESC.Preprocessing(af5, alf5)"
   ]
  },
  {
   "cell_type": "code",
   "execution_count": 6,
   "id": "local-detail",
   "metadata": {},
   "outputs": [
    {
     "name": "stdout",
     "output_type": "stream",
     "text": [
      "Shape f1:  (18000, 60, 41, 2)\n",
      "Shape f2:  (18000, 60, 41, 2)\n",
      "Shape f2:  (18000, 60, 41, 2)\n",
      "Shape f4:  (18000, 60, 41, 2)\n",
      "Shape f5:  (18000, 60, 41, 2)\n"
     ]
    }
   ],
   "source": [
    "print('Shape f1: ', f1_processed.shape)\n",
    "print('Shape f2: ', f2_processed.shape)\n",
    "print('Shape f2: ', f3_processed.shape)\n",
    "print('Shape f4: ', f4_processed.shape)\n",
    "print('Shape f5: ', f5_processed.shape)"
   ]
  },
  {
   "cell_type": "code",
   "execution_count": 7,
   "id": "virgin-university",
   "metadata": {},
   "outputs": [],
   "source": [
    "# Generate training and validation set\n",
    "\n",
    "training_dataset = ESC.CreateTrainingSet(f4_processed, f5_processed, f3_processed, lf4_processed, lf5_processed, lf3_processed)\n",
    "\n",
    "validation_dataset = ESC.CreateValidationSet(f1_processed, lf1_processed)"
   ]
  },
  {
   "cell_type": "code",
   "execution_count": 8,
   "id": "constitutional-latin",
   "metadata": {},
   "outputs": [
    {
     "name": "stdout",
     "output_type": "stream",
     "text": [
      "Epoch  1: \t t-loss: 28.867177 \t t-acc: 0.203810 \t v-loss: 7.713114 \t v-acc: 0.214032 \t time: 182.975\n",
      "Epoch  2: \t t-loss: 4.943612 \t t-acc: 0.348545 \t v-loss: 4.397739 \t v-acc: 0.254107 \t time: 169.249\n",
      "Epoch  3: \t t-loss: 3.525956 \t t-acc: 0.400548 \t v-loss: 3.896870 \t v-acc: 0.273146 \t time: 168.562\n",
      "Epoch  4: \t t-loss: 3.292401 \t t-acc: 0.425355 \t v-loss: 3.894896 \t v-acc: 0.284414 \t time: 168.258\n",
      "Epoch  5: \t t-loss: 3.210269 \t t-acc: 0.449034 \t v-loss: 3.826538 \t v-acc: 0.302731 \t time: 168.154\n",
      "Epoch  6: \t t-loss: 3.166631 \t t-acc: 0.462585 \t v-loss: 3.844304 \t v-acc: 0.297902 \t time: 168.628\n",
      "Epoch  7: \t t-loss: 3.120884 \t t-acc: 0.473693 \t v-loss: 3.852624 \t v-acc: 0.301288 \t time: 168.750\n",
      "Epoch  8: \t t-loss: 3.069788 \t t-acc: 0.488911 \t v-loss: 3.890622 \t v-acc: 0.295182 \t time: 168.922\n",
      "Epoch  9: \t t-loss: 3.032033 \t t-acc: 0.492280 \t v-loss: 3.830441 \t v-acc: 0.300178 \t time: 167.937\n",
      "Epoch 10: \t t-loss: 3.020779 \t t-acc: 0.499463 \t v-loss: 3.831096 \t v-acc: 0.309836 \t time: 168.456\n",
      "Epoch 11: \t t-loss: 3.023861 \t t-acc: 0.502999 \t v-loss: 3.915492 \t v-acc: 0.296070 \t time: 168.360\n",
      "Epoch 12: \t t-loss: 2.987274 \t t-acc: 0.506331 \t v-loss: 3.830618 \t v-acc: 0.303341 \t time: 168.343\n",
      "Epoch 13: \t t-loss: 3.000747 \t t-acc: 0.513052 \t v-loss: 3.828046 \t v-acc: 0.308226 \t time: 168.961\n",
      "Epoch 14: \t t-loss: 2.996065 \t t-acc: 0.515829 \t v-loss: 3.854413 \t v-acc: 0.313222 \t time: 168.292\n",
      "Epoch 15: \t t-loss: 2.984406 \t t-acc: 0.521383 \t v-loss: 3.879116 \t v-acc: 0.318273 \t time: 168.742\n",
      "Epoch 16: \t t-loss: 2.983304 \t t-acc: 0.518569 \t v-loss: 3.784637 \t v-acc: 0.329540 \t time: 169.258\n",
      "Epoch 17: \t t-loss: 2.937717 \t t-acc: 0.523752 \t v-loss: 3.872415 \t v-acc: 0.314332 \t time: 168.550\n",
      "Epoch 18: \t t-loss: 2.977821 \t t-acc: 0.524567 \t v-loss: 3.915928 \t v-acc: 0.314054 \t time: 167.963\n",
      "Epoch 19: \t t-loss: 2.938656 \t t-acc: 0.524548 \t v-loss: 3.779402 \t v-acc: 0.327376 \t time: 168.929\n",
      "Epoch 20: \t t-loss: 2.955518 \t t-acc: 0.529473 \t v-loss: 4.072178 \t v-acc: 0.316996 \t time: 168.978\n",
      "Epoch 21: \t t-loss: 2.908013 \t t-acc: 0.530491 \t v-loss: 3.777596 \t v-acc: 0.326488 \t time: 168.607\n",
      "Epoch 22: \t t-loss: 2.940996 \t t-acc: 0.530732 \t v-loss: 3.741468 \t v-acc: 0.325655 \t time: 168.687\n",
      "Epoch 23: \t t-loss: 2.909605 \t t-acc: 0.534842 \t v-loss: 3.779593 \t v-acc: 0.314165 \t time: 168.239\n",
      "Epoch 24: \t t-loss: 2.917774 \t t-acc: 0.533286 \t v-loss: 3.882634 \t v-acc: 0.306061 \t time: 168.445\n",
      "Epoch 25: \t t-loss: 2.902273 \t t-acc: 0.536323 \t v-loss: 3.785459 \t v-acc: 0.323435 \t time: 168.416\n",
      "Epoch 26: \t t-loss: 2.910954 \t t-acc: 0.536415 \t v-loss: 3.884716 \t v-acc: 0.318162 \t time: 168.581\n",
      "Epoch 27: \t t-loss: 2.911195 \t t-acc: 0.536508 \t v-loss: 3.852733 \t v-acc: 0.329485 \t time: 168.474\n",
      "Epoch 28: \t t-loss: 2.909312 \t t-acc: 0.539525 \t v-loss: 3.809307 \t v-acc: 0.325766 \t time: 168.641\n",
      "Epoch 29: \t t-loss: 2.897588 \t t-acc: 0.536341 \t v-loss: 3.851890 \t v-acc: 0.325100 \t time: 168.335\n",
      "Epoch 30: \t t-loss: 2.898575 \t t-acc: 0.541154 \t v-loss: 3.851662 \t v-acc: 0.327098 \t time: 168.488\n"
     ]
    }
   ],
   "source": [
    "max_epochs = 30\n",
    "\n",
    "epoch_loss= []\n",
    "epoch_acc = []\n",
    "\n",
    "epoch_vl = []\n",
    "epoch_va = []\n",
    "\n",
    "# Loop over the epochs\n",
    "for epoch in range(max_epochs):\n",
    "    \n",
    "    step_loss = []\n",
    "    step_acc = []\n",
    "    \n",
    "    step_vl = []\n",
    "    step_va = []\n",
    "    \n",
    "    start = time.time()\n",
    "    # train over mini-batches\n",
    "    for x_batch, y_batch in training_dataset:\n",
    "        \n",
    "        # train on batch\n",
    "        step_stats = PiczakNet.train_on_batch(x_batch, y_batch)\n",
    "        \n",
    "        # save loss and accuracy\n",
    "        step_loss.append(step_stats[0])\n",
    "        step_acc.append(step_stats[1])\n",
    "        \n",
    "    # compute validation stats\n",
    "    for x_batch, y_batch in validation_dataset:\n",
    "        \n",
    "        # compute validation stats\n",
    "        val_stats = PiczakNet.test_on_batch(x_batch, y_batch)\n",
    "        \n",
    "        # save loss and accuracy\n",
    "        step_vl.append(val_stats[0])\n",
    "        step_va.append(val_stats[1])\n",
    "    end = time.time()\n",
    "        \n",
    "    # Save the mean loss and accuracy of the entire epoch\n",
    "    epoch_loss.append(np.mean(step_loss))\n",
    "    epoch_acc.append(np.mean(step_acc))\n",
    "    epoch_vl.append(np.mean(step_vl))\n",
    "    epoch_va.append(np.mean(step_va))\n",
    "    \n",
    "    # Print epoch training stats\n",
    "    print(\"Epoch %2d: \\t t-loss: %3.6f \\t t-acc: %.6f \\t v-loss: %3.6f \\t v-acc: %.6f \\t time: %3.3f\" % (epoch + 1, epoch_loss[-1], epoch_acc[-1], epoch_vl[-1], epoch_va[-1], (end - start)))"
   ]
  },
  {
   "cell_type": "code",
   "execution_count": null,
   "id": "expected-summit",
   "metadata": {},
   "outputs": [],
   "source": [
    "'''\n",
    "max_epochs = 50\n",
    "train_steps = int(np.ceil(len(f1_processed)/32))\n",
    "val_steps = int(np.ceil(len(f2_processed)/32))\n",
    "\n",
    "history = PiczakNet.fit(training_dataset,\n",
    "                        epochs=max_epochs, \n",
    "                        validation_data=validation_dataset, \n",
    "                        validation_steps=val_steps,\n",
    "                        steps_per_epoch=train_steps)\n",
    "# Plot loss\n",
    "plt.figure()\n",
    "plt.plot(history.history['loss'], label='Train loss')\n",
    "plt.plot(history.history['val_loss'], label='Val loss')\n",
    "plt.legend()\n",
    "plt.xlabel('Epoch')\n",
    "plt.ylabel('Loss')\n",
    "\n",
    "# Plot accuracy\n",
    "plt.figure()\n",
    "plt.plot(history.history['accuracy'], label='Train accuracy')\n",
    "plt.plot(history.history['val_accuracy'], label='Val accuracy')\n",
    "plt.legend()\n",
    "plt.xlabel('Epoch')\n",
    "plt.ylabel('Accuracy')\n",
    "'''"
   ]
  },
  {
   "cell_type": "code",
   "execution_count": 9,
   "id": "genuine-advance",
   "metadata": {},
   "outputs": [
    {
     "data": {
      "image/png": "[encoded data removed]",
      "text/plain": [
       "<Figure size 432x288 with 1 Axes>"
      ]
     },
     "metadata": {
      "needs_background": "light"
     },
     "output_type": "display_data"
    }
   ],
   "source": [
    "plt.figure()\n",
    "plt.plot(epoch_loss, label='training loss')\n",
    "plt.plot(epoch_vl, label='validation loss')\n",
    "plt.legend()\n",
    "plt.show()\n",
    "plt.close('all')"
   ]
  },
  {
   "cell_type": "code",
   "execution_count": 10,
   "id": "rural-georgia",
   "metadata": {},
   "outputs": [
    {
     "data": {
      "image/png": "[encoded data removed]",
      "text/plain": [
       "<Figure size 432x288 with 1 Axes>"
      ]
     },
     "metadata": {
      "needs_background": "light"
     },
     "output_type": "display_data"
    }
   ],
   "source": [
    "plt.figure()\n",
    "plt.plot(epoch_acc, label='training acc')\n",
    "plt.plot(epoch_va, label='validation acc')\n",
    "plt.legend()\n",
    "plt.show()\n",
    "plt.close('all')"
   ]
  },
  {
   "cell_type": "markdown",
   "id": "suspended-verification",
   "metadata": {},
   "source": [
    "## Test on Other Folds"
   ]
  },
  {
   "cell_type": "code",
   "execution_count": 11,
   "id": "former-journey",
   "metadata": {},
   "outputs": [
    {
     "name": "stdout",
     "output_type": "stream",
     "text": [
      "563/563 [==============================] - 11s 19ms/step - loss: 2.7730 - accuracy: 0.5855\n"
     ]
    },
    {
     "data": {
      "text/plain": [
       "[2.773038387298584, 0.5855000019073486]"
      ]
     },
     "execution_count": 11,
     "metadata": {},
     "output_type": "execute_result"
    }
   ],
   "source": [
    "PiczakNet.evaluate(f3_processed, lf3_processed)"
   ]
  },
  {
   "cell_type": "code",
   "execution_count": 12,
   "id": "existing-tractor",
   "metadata": {},
   "outputs": [
    {
     "name": "stdout",
     "output_type": "stream",
     "text": [
      "563/563 [==============================] - 11s 19ms/step - loss: 3.8527 - accuracy: 0.3267\n"
     ]
    },
    {
     "data": {
      "text/plain": [
       "[3.852735757827759, 0.32672223448753357]"
      ]
     },
     "execution_count": 12,
     "metadata": {},
     "output_type": "execute_result"
    }
   ],
   "source": [
    "PiczakNet.evaluate(f1_processed, lf1_processed)"
   ]
  },
  {
   "cell_type": "code",
   "execution_count": 13,
   "id": "waiting-croatia",
   "metadata": {},
   "outputs": [
    {
     "name": "stdout",
     "output_type": "stream",
     "text": [
      "563/563 [==============================] - 11s 19ms/step - loss: 3.6950 - accuracy: 0.3543\n"
     ]
    },
    {
     "data": {
      "text/plain": [
       "[3.694983959197998, 0.3543333411216736]"
      ]
     },
     "execution_count": 13,
     "metadata": {},
     "output_type": "execute_result"
    }
   ],
   "source": [
    "PiczakNet.evaluate(f2_processed, lf2_processed)"
   ]
  },
  {
   "cell_type": "code",
   "execution_count": 14,
   "id": "marine-alaska",
   "metadata": {},
   "outputs": [
    {
     "name": "stdout",
     "output_type": "stream",
     "text": [
      "563/563 [==============================] - 11s 19ms/step - loss: 2.6666 - accuracy: 0.6327\n"
     ]
    },
    {
     "data": {
      "text/plain": [
       "[2.666583299636841, 0.6327221989631653]"
      ]
     },
     "execution_count": 14,
     "metadata": {},
     "output_type": "execute_result"
    }
   ],
   "source": [
    "PiczakNet.evaluate(f4_processed, lf4_processed)"
   ]
  },
  {
   "cell_type": "code",
   "execution_count": 15,
   "id": "reasonable-waters",
   "metadata": {},
   "outputs": [
    {
     "name": "stdout",
     "output_type": "stream",
     "text": [
      "563/563 [==============================] - 11s 19ms/step - loss: 2.7209 - accuracy: 0.6033\n"
     ]
    },
    {
     "data": {
      "text/plain": [
       "[2.7208876609802246, 0.6033333539962769]"
      ]
     },
     "execution_count": 15,
     "metadata": {},
     "output_type": "execute_result"
    }
   ],
   "source": [
    "PiczakNet.evaluate(f5_processed, lf5_processed)"
   ]
  },
  {
   "cell_type": "markdown",
   "id": "photographic-peoples",
   "metadata": {},
   "source": [
    "## Predict"
   ]
  },
  {
   "cell_type": "code",
   "execution_count": null,
   "id": "african-commercial",
   "metadata": {},
   "outputs": [],
   "source": [
    "print(f4_processed[0].shape)\n",
    "\n",
    "input_sample = np.expand_dims(f4_processed[0], axis=0)\n",
    "\n",
    "print(input_sample.shape)"
   ]
  },
  {
   "cell_type": "code",
   "execution_count": null,
   "id": "sharp-arrow",
   "metadata": {},
   "outputs": [],
   "source": [
    "prediction = PiczakNet.predict(input_sample)"
   ]
  },
  {
   "cell_type": "code",
   "execution_count": null,
   "id": "worthy-structure",
   "metadata": {},
   "outputs": [],
   "source": [
    "print(prediction)\n",
    "plt.figure()\n",
    "plt.plot(prediction[0], '.')\n",
    "plt.show()"
   ]
  },
  {
   "cell_type": "code",
   "execution_count": null,
   "id": "tribal-printer",
   "metadata": {},
   "outputs": [],
   "source": [
    "category = np.argmax(prediction, axis=1)\n",
    "print(category)\n",
    "\n",
    "print(lf4_processed.shape)\n",
    "label_category = np.argmax(lf4_processed[0], axis=0)\n",
    "print(label_category)"
   ]
  },
  {
   "cell_type": "code",
   "execution_count": null,
   "id": "stupid-management",
   "metadata": {},
   "outputs": [],
   "source": [
    "plt.figure()\n",
    "plt.plot(lf4_processed[0], '.')\n",
    "plt.show()"
   ]
  },
  {
   "cell_type": "code",
   "execution_count": null,
   "id": "reverse-blank",
   "metadata": {},
   "outputs": [],
   "source": [
    "IPython.display.Audio(af4[0], rate=22050)"
   ]
  },
  {
   "cell_type": "code",
   "execution_count": null,
   "id": "fluid-tactics",
   "metadata": {},
   "outputs": [],
   "source": []
  }
 ],
 "metadata": {
  "kernelspec": {
   "display_name": "Python 3",
   "language": "python",
   "name": "python3"
  },
  "language_info": {
   "codemirror_mode": {
    "name": "ipython",
    "version": 3
   },
   "file_extension": ".py",
   "mimetype": "text/x-python",
   "name": "python",
   "nbconvert_exporter": "python",
   "pygments_lexer": "ipython3",
   "version": "3.7.9"
  }
 },
 "nbformat": 4,
 "nbformat_minor": 5
}
