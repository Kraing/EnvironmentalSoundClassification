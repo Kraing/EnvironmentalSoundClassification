{
 "cells": [
  {
   "cell_type": "code",
   "execution_count": 1,
   "id": "binding-armstrong",
   "metadata": {},
   "outputs": [],
   "source": [
    "import numpy as np\n",
    "import pandas as pd\n",
    "from glob import glob\n",
    "from tqdm import tqdm\n",
    "import os\n",
    "import re\n",
    "import librosa\n",
    "import matplotlib.pyplot as plt\n",
    "\n",
    "import ESC\n",
    "from tensorflow.keras.utils import to_categorical, plot_model\n",
    "from tensorflow.keras.regularizers import l2"
   ]
  },
  {
   "cell_type": "code",
   "execution_count": 2,
   "id": "dramatic-guide",
   "metadata": {},
   "outputs": [],
   "source": [
    "def Load_ESC10(path):\n",
    "    '''\n",
    "        Input:\n",
    "            path: folder of the dataset\n",
    "        \n",
    "        Output:\n",
    "            raw_data:  list that contains the raw data\n",
    "            cvs:       list that contains the cross-fold number\n",
    "            labels:    list that contains the category information\n",
    "    '''\n",
    "    \n",
    "    # Container for the dataset\n",
    "    raw_data = []\n",
    "    cvs = []\n",
    "    labels = []\n",
    "\n",
    "    # Extract ESC10 files name\n",
    "    df = pd.read_csv(glob('meta/esc50.csv')[0])\n",
    "\n",
    "    # filter columns\n",
    "    df = df[['filename', 'esc10']]\n",
    "\n",
    "    # Load every file inside the folder\n",
    "    for file_name in tqdm(os.listdir(path)):\n",
    "\n",
    "        # Check if file_name is an esc10\n",
    "        row = df[df['filename']==file_name]\n",
    "        check = row.esc10.iloc[0]\n",
    "\n",
    "        if check==True:    \n",
    "            try:\n",
    "                # Get audio data and sampling rate\n",
    "                audio, sampling_rate = librosa.load(os.path.join(path, file_name), res_type='kaiser_fast')\n",
    "\n",
    "                # Split the file name\n",
    "                name_splitted = re.split('[-.]', file_name)\n",
    "\n",
    "                # Append a row of 3 elements\n",
    "                raw_data.append(audio)\n",
    "                cvs.append(name_splitted[0])\n",
    "                labels.append(name_splitted[3])\n",
    "                                \n",
    "            except Exception as e:\n",
    "                pass\n",
    "    raw_audio = np.asarray(raw_data)\n",
    "    cvs = np.asarray(cvs, dtype=int)\n",
    "    labels = np.asarray(labels, dtype=int)\n",
    "\n",
    "    return raw_audio, cvs, labels\n",
    "\n",
    "\n",
    "def label_map(label):\n",
    "    \n",
    "    unique = np.unique(label)\n",
    "    new_labels = np.arange(0, len(unique))\n",
    "    \n",
    "    for i in range(len(unique)):\n",
    "        \n",
    "        comp = unique[i]\n",
    "        \n",
    "        for k in range(len(label)):\n",
    "            if label[k] == comp:\n",
    "                label[k] = new_labels[i]\n",
    "    \n",
    "    return label"
   ]
  },
  {
   "cell_type": "code",
   "execution_count": 3,
   "id": "another-present",
   "metadata": {},
   "outputs": [
    {
     "name": "stderr",
     "output_type": "stream",
     "text": [
      "100%|██████████| 2000/2000 [00:16<00:00, 119.38it/s]\n",
      "100%|██████████| 400/400 [00:00<00:00, 401272.81it/s]"
     ]
    },
    {
     "name": "stdout",
     "output_type": "stream",
     "text": [
      "Folds size: 80 - 80 - 80 - 80 - 80\n",
      "Folds sample shape:  2\n",
      "Folds sample data shape:  (110250,)\n",
      "Folds sample label type:  (10,)\n"
     ]
    },
    {
     "name": "stderr",
     "output_type": "stream",
     "text": [
      "\n"
     ]
    }
   ],
   "source": [
    "PATH = 'audio'\n",
    "raw_files, cvs, labels = Load_ESC10(PATH)\n",
    "\n",
    "labels = label_map(labels)\n",
    "\n",
    "\n",
    "labels = to_categorical(labels, num_classes=10)\n",
    "# Split the different folds\n",
    "f1, f2, f3, f4, f5 = ESC.Split_Folds(raw_files, cvs, labels, verbose=True)"
   ]
  },
  {
   "cell_type": "code",
   "execution_count": 4,
   "id": "unique-oracle",
   "metadata": {},
   "outputs": [
    {
     "name": "stdout",
     "output_type": "stream",
     "text": [
      "(400, 10)\n"
     ]
    }
   ],
   "source": [
    "print(labels.shape)"
   ]
  },
  {
   "cell_type": "code",
   "execution_count": 5,
   "id": "freelance-techno",
   "metadata": {},
   "outputs": [],
   "source": [
    "f1d, f1l = ESC.Split_Data_Label(f1)\n",
    "f2d, f2l = ESC.Split_Data_Label(f2)\n",
    "f3d, f3l = ESC.Split_Data_Label(f3)\n",
    "f4d, f4l = ESC.Split_Data_Label(f4)\n"
   ]
  },
  {
   "cell_type": "code",
   "execution_count": 6,
   "id": "similar-attraction",
   "metadata": {},
   "outputs": [
    {
     "name": "stderr",
     "output_type": "stream",
     "text": [
      "100%|██████████| 80/80 [00:00<00:00, 138.42it/s]\n",
      "100%|██████████| 80/80 [00:00<00:00, 136.29it/s]\n",
      "100%|██████████| 80/80 [00:00<00:00, 130.51it/s]\n",
      "100%|██████████| 80/80 [00:00<00:00, 138.18it/s]\n"
     ]
    }
   ],
   "source": [
    "# Compute log-melspec and deltas\n",
    "f1p, lf1p = ESC.Preprocessing(f1d, f1l)\n",
    "f2p, lf2p = ESC.Preprocessing(f2d, f2l)\n",
    "f3p, lf3p = ESC.Preprocessing(f3d, f3l)\n",
    "f4p, lf4p = ESC.Preprocessing(f4d, f4l)"
   ]
  },
  {
   "cell_type": "code",
   "execution_count": 7,
   "id": "simple-damage",
   "metadata": {},
   "outputs": [],
   "source": [
    "f1p = np.interp(f1p, (f1p.min(), f1p.max()), (0, +1))\n",
    "f2p = np.interp(f2p, (f2p.min(), f2p.max()), (0, +1))\n",
    "f3p = np.interp(f3p, (f3p.min(), f3p.max()), (0, +1))\n",
    "f4p = np.interp(f4p, (f4p.min(), f4p.max()), (0, +1))"
   ]
  },
  {
   "cell_type": "code",
   "execution_count": 8,
   "id": "absent-worry",
   "metadata": {},
   "outputs": [
    {
     "name": "stdout",
     "output_type": "stream",
     "text": [
      "Model: \"RawNet\"\n",
      "_________________________________________________________________\n",
      "Layer (type)                 Output Shape              Param #   \n",
      "=================================================================\n",
      "input_1 (InputLayer)         [(None, 60, 41, 2)]       0         \n",
      "_________________________________________________________________\n",
      "conv3 (Conv2D)               (None, 60, 41, 24)        1752      \n",
      "_________________________________________________________________\n",
      "batch_normalization (BatchNo (None, 60, 41, 24)        96        \n",
      "_________________________________________________________________\n",
      "activation (Activation)      (None, 60, 41, 24)        0         \n",
      "_________________________________________________________________\n",
      "conv4 (Conv2D)               (None, 60, 41, 24)        20760     \n",
      "_________________________________________________________________\n",
      "batch_normalization_1 (Batch (None, 60, 41, 24)        96        \n",
      "_________________________________________________________________\n",
      "activation_1 (Activation)    (None, 60, 41, 24)        0         \n",
      "_________________________________________________________________\n",
      "conv5 (Conv2D)               (None, 30, 21, 48)        28848     \n",
      "_________________________________________________________________\n",
      "batch_normalization_2 (Batch (None, 30, 21, 48)        192       \n",
      "_________________________________________________________________\n",
      "activation_2 (Activation)    (None, 30, 21, 48)        0         \n",
      "_________________________________________________________________\n",
      "conv6 (Conv2D)               (None, 15, 11, 48)        57648     \n",
      "_________________________________________________________________\n",
      "batch_normalization_3 (Batch (None, 15, 11, 48)        192       \n",
      "_________________________________________________________________\n",
      "activation_3 (Activation)    (None, 15, 11, 48)        0         \n",
      "_________________________________________________________________\n",
      "conv7 (Conv2D)               (None, 8, 6, 64)          49216     \n",
      "_________________________________________________________________\n",
      "batch_normalization_4 (Batch (None, 8, 6, 64)          256       \n",
      "_________________________________________________________________\n",
      "activation_4 (Activation)    (None, 8, 6, 64)          0         \n",
      "_________________________________________________________________\n",
      "flatten (Flatten)            (None, 3072)              0         \n",
      "_________________________________________________________________\n",
      "ffc (Dense)                  (None, 200)               614600    \n",
      "_________________________________________________________________\n",
      "dropout (Dropout)            (None, 200)               0         \n",
      "_________________________________________________________________\n",
      "out (Dense)                  (None, 10)                2010      \n",
      "=================================================================\n",
      "Total params: 775,666\n",
      "Trainable params: 775,250\n",
      "Non-trainable params: 416\n",
      "_________________________________________________________________\n",
      "None\n"
     ]
    }
   ],
   "source": [
    "import tensorflow as tf\n",
    "from tensorflow.keras.utils import to_categorical, plot_model\n",
    "\n",
    "def PiczakNet(input_shape):\n",
    "    \n",
    "    X_input = tf.keras.Input(input_shape)\n",
    "    \n",
    "    # First convolution block\n",
    "    model = tf.keras.layers.Conv2D(80, kernel_size=(57, 6), strides=1, padding='same', name='conv0')(X_input)\n",
    "    model = tf.keras.layers.Activation('relu')(model)\n",
    "    model = tf.keras.layers.MaxPool2D(pool_size=(4, 3), strides=(1, 3), padding='same')(model)\n",
    "    model = tf.keras.layers.Dropout(0.5)(model)\n",
    "    \n",
    "    # Second convolution block\n",
    "    model = tf.keras.layers.Conv2D(80, kernel_size=(1, 3), strides=1, padding='same', name='conv1')(model)\n",
    "    model = tf.keras.layers.Activation('relu')(model)\n",
    "    model = tf.keras.layers.MaxPool2D(pool_size=(1, 3), strides=(1, 3), padding='same')(model)\n",
    "    \n",
    "    # Flatten\n",
    "    model = tf.keras.layers.Flatten()(model)\n",
    "    \n",
    "    # First fully-connected block\n",
    "    model = tf.keras.layers.Dense(5000, activation='relu', name='fc0')(model)\n",
    "    model = tf.keras.layers.Dropout(0.5)(model)\n",
    "    \n",
    "    # Second fully-connected block\n",
    "    model = tf.keras.layers.Dense(5000, activation='relu', name='fc1')(model)\n",
    "    model = tf.keras.layers.Dropout(0.5)(model)\n",
    "    \n",
    "    # Output layer\n",
    "    model = tf.keras.layers.Dense(10, activation=None, name='out')(model)\n",
    "    \n",
    "    # Create model\n",
    "    model = tf.keras.Model(inputs = X_input, outputs = model, name='PiczakNet')\n",
    "    \n",
    "    return model\n",
    "\n",
    "\n",
    "def RawNet(input_shape):\n",
    "    \n",
    "    X_input = tf.keras.Input(input_shape)\n",
    "    #print(input_shape)\n",
    "    #model = tf.keras.layers.Reshape((input_shape[0], 1))(X_input)\n",
    "    \n",
    "    \n",
    "    model = tf.keras.layers.Conv2D(24, kernel_size=(6, 6), strides=(1, 1), padding='same', name='conv3')(X_input)\n",
    "    model = tf.keras.layers.BatchNormalization(axis=3)(model)\n",
    "    model = tf.keras.layers.Activation('relu')(model)\n",
    "    \n",
    "    model = tf.keras.layers.Conv2D(24, kernel_size=(6, 6), strides=(1, 1), padding='same', name='conv4')(model)\n",
    "    model = tf.keras.layers.BatchNormalization(axis=3)(model)\n",
    "    model = tf.keras.layers.Activation('relu')(model)\n",
    "    \n",
    "    model = tf.keras.layers.Conv2D(48, kernel_size=(5, 5), strides=(2, 2), padding='same', name='conv5')(model)\n",
    "    model = tf.keras.layers.BatchNormalization(axis=3)(model)\n",
    "    model = tf.keras.layers.Activation('relu')(model)\n",
    "    \n",
    "    model = tf.keras.layers.Conv2D(48, kernel_size=(5, 5), strides=(2, 2), padding='same', name='conv6')(model)\n",
    "    model = tf.keras.layers.BatchNormalization(axis=3)(model)\n",
    "    model = tf.keras.layers.Activation('relu')(model)\n",
    "    \n",
    "    model = tf.keras.layers.Conv2D(64, kernel_size=(4, 4), strides=(2, 2), padding='same', name='conv7')(model)\n",
    "    model = tf.keras.layers.BatchNormalization(axis=3)(model)\n",
    "    model = tf.keras.layers.Activation('relu')(model)\n",
    "    \n",
    "    model = tf.keras.layers.Flatten()(model)\n",
    "    \n",
    "    model = tf.keras.layers.Dense(200, activation='relu', name='ffc')(model)\n",
    "    model = tf.keras.layers.Dropout(0.5)(model)\n",
    "    model = tf.keras.layers.Dense(10, activation='softmax', name='out')(model)\n",
    "\n",
    "    # Create model\n",
    "    model = tf.keras.Model(inputs = X_input, outputs = model, name='RawNet')\n",
    "    \n",
    "    return model\n",
    "\n",
    "PiczakNet = RawNet([60, 41, 2])\n",
    "print(PiczakNet.summary())\n",
    "plot_model(PiczakNet, show_shapes=True, show_layer_names=True)\n",
    "\n",
    "opt = tf.keras.optimizers.Adam(lr=0.0002)\n",
    "loss_f = tf.keras.losses.CategoricalCrossentropy(from_logits=False)\n",
    "PiczakNet.compile(optimizer=opt, loss=loss_f, metrics=[\"accuracy\"])"
   ]
  },
  {
   "cell_type": "code",
   "execution_count": 9,
   "id": "stable-musician",
   "metadata": {},
   "outputs": [],
   "source": [
    "def CreateTrainingSet(f1, f2, f3, lf1, lf2, lf3, batch_size=32):\n",
    "    \n",
    "    # Create training set\n",
    "    merged_training_data = np.concatenate((f1, f2, f3))\n",
    "    merged_training_label = np.concatenate((lf1, lf2, lf3))\n",
    "    \n",
    "    # Shuffle the folds\n",
    "    rnd_indices = np.arange(0, len(merged_training_data))\n",
    "    rnd_indices = np.random.shuffle(rnd_indices)\n",
    "    \n",
    "    merged_training_data = merged_training_data[rnd_indices].reshape((len(f1) + len(f2) + len(f3), 60, 41, 2))\n",
    "    merged_training_label = merged_training_label[rnd_indices].reshape((len(f1) + len(f2) + len(f3), 10))\n",
    "    \n",
    "    \n",
    "    merged_training_data = merged_training_data.astype(np.float32)\n",
    "    merged_training_label = merged_training_label.astype(np.float32)\n",
    "\n",
    "    # Create dataset\n",
    "    training_dataset = tf.data.Dataset.from_tensor_slices((merged_training_data, merged_training_label))\n",
    "    \n",
    "    # Cache the dataset\n",
    "    training_dataset = training_dataset.cache(\"training_cache\")\n",
    "    \n",
    "    # Shuffle all elements at every iteration\n",
    "    training_dataset = training_dataset.shuffle(len(training_dataset))\n",
    "    \n",
    "    # Define batch_size and prefetch size\n",
    "    training_dataset = training_dataset.batch(batch_size=batch_size).prefetch(buffer_size=1)\n",
    "    \n",
    "    return training_dataset\n",
    "\n",
    "training_dataset = CreateTrainingSet(f1p, f2p, f3p, lf1p, lf2p, lf3p, batch_size=32)\n",
    "validation_dataset = ESC.CreateValidationSet(f4p, lf4p, batch_size=32)"
   ]
  },
  {
   "cell_type": "code",
   "execution_count": 10,
   "id": "coupled-neighborhood",
   "metadata": {},
   "outputs": [
    {
     "name": "stdout",
     "output_type": "stream",
     "text": [
      "Epoch  1: \t t-loss: 1.611959 \t t-acc: 0.414522 \t v-loss: 2.293287 \t v-acc: 0.097826 \t time: 3.898\n",
      "Epoch  2: \t t-loss: 1.016267 \t t-acc: 0.631893 \t v-loss: 2.311517 \t v-acc: 0.097826 \t time: 1.271\n",
      "Epoch  3: \t t-loss: 0.797301 \t t-acc: 0.716452 \t v-loss: 2.290411 \t v-acc: 0.097826 \t time: 1.267\n",
      "Epoch  4: \t t-loss: 0.630060 \t t-acc: 0.766544 \t v-loss: 2.158572 \t v-acc: 0.206522 \t time: 1.268\n",
      "Epoch  5: \t t-loss: 0.543625 \t t-acc: 0.804688 \t v-loss: 1.929885 \t v-acc: 0.247283 \t time: 1.257\n",
      "Epoch  6: \t t-loss: 0.488431 \t t-acc: 0.824908 \t v-loss: 1.494936 \t v-acc: 0.452446 \t time: 1.277\n",
      "Epoch  7: \t t-loss: 0.434868 \t t-acc: 0.850643 \t v-loss: 1.379333 \t v-acc: 0.486413 \t time: 1.275\n",
      "Epoch  8: \t t-loss: 0.368139 \t t-acc: 0.862132 \t v-loss: 1.126312 \t v-acc: 0.573370 \t time: 1.263\n",
      "Epoch  9: \t t-loss: 0.353515 \t t-acc: 0.865809 \t v-loss: 1.159976 \t v-acc: 0.608696 \t time: 1.261\n",
      "Epoch 10: \t t-loss: 0.320264 \t t-acc: 0.876838 \t v-loss: 1.147295 \t v-acc: 0.626359 \t time: 1.268\n",
      "Epoch 11: \t t-loss: 0.303383 \t t-acc: 0.883732 \t v-loss: 1.489867 \t v-acc: 0.516304 \t time: 1.276\n",
      "Epoch 12: \t t-loss: 0.277268 \t t-acc: 0.893382 \t v-loss: 1.138887 \t v-acc: 0.634511 \t time: 1.263\n",
      "Epoch 13: \t t-loss: 0.275334 \t t-acc: 0.900276 \t v-loss: 1.125395 \t v-acc: 0.644022 \t time: 1.264\n",
      "Epoch 14: \t t-loss: 0.259436 \t t-acc: 0.898438 \t v-loss: 1.512347 \t v-acc: 0.576087 \t time: 1.262\n",
      "Epoch 15: \t t-loss: 0.258421 \t t-acc: 0.900276 \t v-loss: 1.121648 \t v-acc: 0.653533 \t time: 1.271\n",
      "Epoch 16: \t t-loss: 0.242478 \t t-acc: 0.908548 \t v-loss: 1.006446 \t v-acc: 0.665761 \t time: 1.271\n",
      "Epoch 17: \t t-loss: 0.218986 \t t-acc: 0.909926 \t v-loss: 1.088538 \t v-acc: 0.626359 \t time: 1.256\n",
      "Epoch 18: \t t-loss: 0.216151 \t t-acc: 0.913603 \t v-loss: 1.157895 \t v-acc: 0.650815 \t time: 1.277\n",
      "Epoch 19: \t t-loss: 0.223887 \t t-acc: 0.911765 \t v-loss: 1.030813 \t v-acc: 0.660326 \t time: 1.270\n",
      "Epoch 20: \t t-loss: 0.223522 \t t-acc: 0.910386 \t v-loss: 1.290797 \t v-acc: 0.631793 \t time: 1.289\n",
      "Epoch 21: \t t-loss: 0.226305 \t t-acc: 0.914062 \t v-loss: 1.467896 \t v-acc: 0.589674 \t time: 1.265\n",
      "Epoch 22: \t t-loss: 0.214102 \t t-acc: 0.908088 \t v-loss: 1.314597 \t v-acc: 0.615489 \t time: 1.271\n",
      "Epoch 23: \t t-loss: 0.209749 \t t-acc: 0.914062 \t v-loss: 2.164907 \t v-acc: 0.531250 \t time: 1.276\n",
      "Epoch 24: \t t-loss: 0.196185 \t t-acc: 0.920956 \t v-loss: 1.022425 \t v-acc: 0.619565 \t time: 1.277\n",
      "Epoch 25: \t t-loss: 0.200536 \t t-acc: 0.913603 \t v-loss: 1.819246 \t v-acc: 0.600543 \t time: 1.251\n",
      "Epoch 26: \t t-loss: 0.197515 \t t-acc: 0.919118 \t v-loss: 1.800315 \t v-acc: 0.562500 \t time: 1.273\n",
      "Epoch 27: \t t-loss: 0.192336 \t t-acc: 0.916820 \t v-loss: 1.087421 \t v-acc: 0.642663 \t time: 1.256\n",
      "Epoch 28: \t t-loss: 0.186963 \t t-acc: 0.923254 \t v-loss: 1.172220 \t v-acc: 0.653533 \t time: 1.270\n",
      "Epoch 29: \t t-loss: 0.190958 \t t-acc: 0.921875 \t v-loss: 1.336030 \t v-acc: 0.612772 \t time: 1.261\n",
      "Epoch 30: \t t-loss: 0.184910 \t t-acc: 0.924173 \t v-loss: 1.737069 \t v-acc: 0.595109 \t time: 1.268\n"
     ]
    }
   ],
   "source": [
    "import time\n",
    "\n",
    "max_epochs = 30\n",
    "\n",
    "epoch_loss= []\n",
    "epoch_acc = []\n",
    "\n",
    "epoch_vl = []\n",
    "epoch_va = []\n",
    "\n",
    "# Loop over the epochs\n",
    "for epoch in range(max_epochs):\n",
    "\n",
    "    \n",
    "    step_loss = []\n",
    "    step_acc = []\n",
    "    \n",
    "    step_vl = []\n",
    "    step_va = []\n",
    "    \n",
    "    start = time.time()\n",
    "    # train over mini-batches\n",
    "    for x_batch, y_batch in training_dataset:\n",
    "        \n",
    "        # train on batch\n",
    "        step_stats = PiczakNet.train_on_batch(x_batch, y_batch)\n",
    "        \n",
    "        # save loss and accuracy\n",
    "        step_loss.append(step_stats[0])\n",
    "        step_acc.append(step_stats[1])\n",
    "        \n",
    "    # compute validation stats\n",
    "    for x_batch, y_batch in validation_dataset:\n",
    "        \n",
    "        # compute validation stats\n",
    "        val_stats = PiczakNet.test_on_batch(x_batch, y_batch)\n",
    "        \n",
    "        # save loss and accuracy\n",
    "        step_vl.append(val_stats[0])\n",
    "        step_va.append(val_stats[1])\n",
    "    end = time.time()\n",
    "        \n",
    "    # Save the mean loss and accuracy of the entire epoch\n",
    "    epoch_loss.append(np.mean(step_loss))\n",
    "    epoch_acc.append(np.mean(step_acc))\n",
    "    epoch_vl.append(np.mean(step_vl))\n",
    "    epoch_va.append(np.mean(step_va))\n",
    "    \n",
    "    # Print epoch training stats\n",
    "    print(\"Epoch %2d: \\t t-loss: %3.6f \\t t-acc: %.6f \\t v-loss: %3.6f \\t v-acc: %.6f \\t time: %3.3f\" % (epoch + 1, epoch_loss[-1], epoch_acc[-1], epoch_vl[-1], epoch_va[-1], (end - start)))\n",
    "    "
   ]
  },
  {
   "cell_type": "code",
   "execution_count": 11,
   "id": "theoretical-whale",
   "metadata": {},
   "outputs": [
    {
     "data": {
      "image/png": "[encoded data removed]",
      "text/plain": [
       "<Figure size 432x288 with 1 Axes>"
      ]
     },
     "metadata": {
      "needs_background": "light"
     },
     "output_type": "display_data"
    }
   ],
   "source": [
    "plt.figure()\n",
    "plt.plot(epoch_loss, label='T-loss')\n",
    "plt.plot(epoch_vl, label='V-loss')\n",
    "plt.title('Loss plot')\n",
    "plt.grid()\n",
    "plt.legend()\n",
    "plt.show()"
   ]
  },
  {
   "cell_type": "code",
   "execution_count": 12,
   "id": "refined-biodiversity",
   "metadata": {},
   "outputs": [
    {
     "data": {
      "image/png": "[encoded data removed]",
      "text/plain": [
       "<Figure size 432x288 with 1 Axes>"
      ]
     },
     "metadata": {
      "needs_background": "light"
     },
     "output_type": "display_data"
    }
   ],
   "source": [
    "plt.figure()\n",
    "plt.plot(epoch_acc, label='T-acc')\n",
    "plt.plot(epoch_va, label='V-acc')\n",
    "plt.title('Accuracy plot')\n",
    "plt.grid()\n",
    "plt.legend()\n",
    "plt.show()"
   ]
  },
  {
   "cell_type": "code",
   "execution_count": 18,
   "id": "amateur-sitting",
   "metadata": {},
   "outputs": [
    {
     "name": "stdout",
     "output_type": "stream",
     "text": [
      "9\n"
     ]
    }
   ],
   "source": [
    "from sklearn.metrics import confusion_matrix\n",
    "\n",
    "y_pred = PiczakNet.predict(f4p)\n",
    "\n",
    "print(np.argmax(y_pred[0]))\n",
    "#confusion_matrix(lf4p, y_pred)"
   ]
  },
  {
   "cell_type": "code",
   "execution_count": 16,
   "id": "boring-interpretation",
   "metadata": {},
   "outputs": [
    {
     "data": {
      "image/png": "[encoded data removed]",
      "text/plain": [
       "<Figure size 432x288 with 1 Axes>"
      ]
     },
     "metadata": {
      "needs_background": "light"
     },
     "output_type": "display_data"
    }
   ],
   "source": [
    "plt.figure()\n",
    "plt.plot(y_pred[0], '.')\n",
    "plt.show()"
   ]
  },
  {
   "cell_type": "code",
   "execution_count": null,
   "id": "impaired-representation",
   "metadata": {},
   "outputs": [],
   "source": []
  }
 ],
 "metadata": {
  "kernelspec": {
   "display_name": "Python 3",
   "language": "python",
   "name": "python3"
  },
  "language_info": {
   "codemirror_mode": {
    "name": "ipython",
    "version": 3
   },
   "file_extension": ".py",
   "mimetype": "text/x-python",
   "name": "python",
   "nbconvert_exporter": "python",
   "pygments_lexer": "ipython3",
   "version": "3.7.9"
  }
 },
 "nbformat": 4,
 "nbformat_minor": 5
}
