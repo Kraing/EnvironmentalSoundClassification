{
 "cells": [
  {
   "cell_type": "code",
   "execution_count": 1,
   "id": "decimal-preview",
   "metadata": {},
   "outputs": [
    {
     "name": "stdout",
     "output_type": "stream",
     "text": [
      "[name: \"/device:CPU:0\"\n",
      "device_type: \"CPU\"\n",
      "memory_limit: 268435456\n",
      "locality {\n",
      "}\n",
      "incarnation: 13710872498671419127\n",
      ", name: \"/device:XLA_CPU:0\"\n",
      "device_type: \"XLA_CPU\"\n",
      "memory_limit: 17179869184\n",
      "locality {\n",
      "}\n",
      "incarnation: 8020767557626646085\n",
      "physical_device_desc: \"device: XLA_CPU device\"\n",
      ", name: \"/device:GPU:0\"\n",
      "device_type: \"GPU\"\n",
      "memory_limit: 7046801664\n",
      "locality {\n",
      "  bus_id: 1\n",
      "  links {\n",
      "  }\n",
      "}\n",
      "incarnation: 13629078584318906492\n",
      "physical_device_desc: \"device: 0, name: GeForce GTX 1070, pci bus id: 0000:01:00.0, compute capability: 6.1\"\n",
      ", name: \"/device:XLA_GPU:0\"\n",
      "device_type: \"XLA_GPU\"\n",
      "memory_limit: 17179869184\n",
      "locality {\n",
      "}\n",
      "incarnation: 6746571107703118337\n",
      "physical_device_desc: \"device: XLA_GPU device\"\n",
      "]\n"
     ]
    }
   ],
   "source": [
    "import numpy as np\n",
    "import pandas as pd\n",
    "import librosa\n",
    "\n",
    "import os\n",
    "import time\n",
    "import re\n",
    "from tqdm import tqdm\n",
    "import h5py\n",
    "\n",
    "import tensorflow as tf\n",
    "from tensorflow.keras.utils import to_categorical, plot_model\n",
    "\n",
    "import matplotlib.pyplot as plt\n",
    "import IPython.display\n",
    "import librosa.display\n",
    "\n",
    "import ESC \n",
    "\n",
    "\n",
    "# Use GPU\n",
    "from tensorflow.python.client import device_lib \n",
    "print(device_lib.list_local_devices())"
   ]
  },
  {
   "cell_type": "markdown",
   "id": "antique-bullet",
   "metadata": {},
   "source": [
    "## Load Data\n",
    "Scaling directly the audio data to range 0-1 makes no sense because it will affect the melspectrogram conversion, so we have to:\n",
    "1. Load data.\n",
    "2. Compute spectrogram segments.\n",
    "3. Merge all folds segments and find min-max in order to scale consistently across different folds.\n",
    "4. Split the datasets again."
   ]
  },
  {
   "cell_type": "code",
   "execution_count": 2,
   "id": "going-closure",
   "metadata": {},
   "outputs": [
    {
     "name": "stderr",
     "output_type": "stream",
     "text": [
      "100%|██████████| 2000/2000 [01:32<00:00, 21.70it/s]\n",
      "100%|██████████| 2000/2000 [00:00<00:00, 672487.41it/s]"
     ]
    },
    {
     "name": "stdout",
     "output_type": "stream",
     "text": [
      "Folds size: 400 - 400 - 400 - 400 - 400\n",
      "Folds sample shape:  2\n",
      "Folds sample data shape:  (110250,)\n",
      "Folds sample label type:  (50,)\n"
     ]
    },
    {
     "name": "stderr",
     "output_type": "stream",
     "text": [
      "\n"
     ]
    }
   ],
   "source": [
    "PATH = 'audio'\n",
    "raw_files, cvs, labels = ESC.Load_RAW(PATH)\n",
    "\n",
    "# Split the different folds\n",
    "f1, f2, f3, f4, f5 = ESC.Split_Folds(raw_files, cvs, labels, verbose=True)"
   ]
  },
  {
   "cell_type": "code",
   "execution_count": 4,
   "id": "bottom-peeing",
   "metadata": {},
   "outputs": [],
   "source": [
    "af4, alf4 = ESC.Split_Data_Label(f4)"
   ]
  },
  {
   "cell_type": "code",
   "execution_count": 5,
   "id": "ongoing-remains",
   "metadata": {},
   "outputs": [],
   "source": [
    "# Load augmented\n",
    "af1, alf1 = ESC.Load_Augmented(name='af1', path='Augmented_2/')\n",
    "af2, alf2 = ESC.Load_Augmented(name='af2', path='Augmented_2/')\n",
    "af3, alf3 = ESC.Load_Augmented(name='af3', path='Augmented_2/')\n",
    "#af4, alf4 = ESC.Load_Augmented(name='af4', path='Augmented_2/')\n",
    "#af5, alf5 = ESC.Load_Augmented(name='af5', path='Augmented_2/')"
   ]
  },
  {
   "cell_type": "code",
   "execution_count": 6,
   "id": "nervous-manufacturer",
   "metadata": {},
   "outputs": [
    {
     "name": "stderr",
     "output_type": "stream",
     "text": [
      "100%|██████████| 2000/2000 [00:13<00:00, 151.57it/s]\n",
      "100%|██████████| 2000/2000 [00:13<00:00, 152.03it/s]\n",
      "100%|██████████| 2000/2000 [00:13<00:00, 152.24it/s]\n",
      "100%|██████████| 400/400 [00:02<00:00, 150.10it/s]\n"
     ]
    }
   ],
   "source": [
    "# Compute log-melspec and deltas\n",
    "f1p, lf1p = ESC.Preprocessing(af1, alf1)\n",
    "f2p, lf2p = ESC.Preprocessing(af2, alf2)\n",
    "f3p, lf3p = ESC.Preprocessing(af3, alf3)\n",
    "f4p, lf4p = ESC.Preprocessing(af4, alf4)\n",
    "#f5p, lf5p = ESC.Preprocessing(af5, alf5)"
   ]
  },
  {
   "cell_type": "code",
   "execution_count": 7,
   "id": "alike-boulder",
   "metadata": {},
   "outputs": [],
   "source": [
    "# Scale the data in each fold to 0 1\n",
    "f1p = np.interp(f1p, (f1p.min(), f1p.max()), (0, +1))\n",
    "f2p = np.interp(f2p, (f2p.min(), f2p.max()), (0, +1))\n",
    "f3p = np.interp(f3p, (f3p.min(), f3p.max()), (0, +1))\n",
    "f4p = np.interp(f4p, (f4p.min(), f4p.max()), (0, +1))\n",
    "#f5p = np.interp(f5p, (f5p.min(), f5p.max()), (0, +1))\n"
   ]
  },
  {
   "cell_type": "markdown",
   "id": "nuclear-gregory",
   "metadata": {},
   "source": [
    "# Define Network and Training"
   ]
  },
  {
   "cell_type": "code",
   "execution_count": 8,
   "id": "convinced-correspondence",
   "metadata": {},
   "outputs": [
    {
     "name": "stdout",
     "output_type": "stream",
     "text": [
      "Model: \"PiczakNet\"\n",
      "_________________________________________________________________\n",
      "Layer (type)                 Output Shape              Param #   \n",
      "=================================================================\n",
      "input_1 (InputLayer)         [(None, 60, 41, 2)]       0         \n",
      "_________________________________________________________________\n",
      "conv0 (Conv2D)               (None, 60, 41, 80)        54800     \n",
      "_________________________________________________________________\n",
      "activation (Activation)      (None, 60, 41, 80)        0         \n",
      "_________________________________________________________________\n",
      "max_pooling2d (MaxPooling2D) (None, 60, 14, 80)        0         \n",
      "_________________________________________________________________\n",
      "dropout (Dropout)            (None, 60, 14, 80)        0         \n",
      "_________________________________________________________________\n",
      "conv1 (Conv2D)               (None, 60, 14, 80)        19280     \n",
      "_________________________________________________________________\n",
      "activation_1 (Activation)    (None, 60, 14, 80)        0         \n",
      "_________________________________________________________________\n",
      "max_pooling2d_1 (MaxPooling2 (None, 60, 5, 80)         0         \n",
      "_________________________________________________________________\n",
      "flatten (Flatten)            (None, 24000)             0         \n",
      "_________________________________________________________________\n",
      "fc0 (Dense)                  (None, 5000)              120005000 \n",
      "_________________________________________________________________\n",
      "dropout_1 (Dropout)          (None, 5000)              0         \n",
      "_________________________________________________________________\n",
      "fc1 (Dense)                  (None, 5000)              25005000  \n",
      "_________________________________________________________________\n",
      "dropout_2 (Dropout)          (None, 5000)              0         \n",
      "_________________________________________________________________\n",
      "out (Dense)                  (None, 50)                250050    \n",
      "=================================================================\n",
      "Total params: 145,334,130\n",
      "Trainable params: 145,334,130\n",
      "Non-trainable params: 0\n",
      "_________________________________________________________________\n",
      "None\n"
     ]
    }
   ],
   "source": [
    "PiczakNet = ESC.PiczakNet([60, 41, 2])\n",
    "print(PiczakNet.summary())\n",
    "plot_model(PiczakNet, show_shapes=True, show_layer_names=True)\n",
    "\n",
    "opt = tf.keras.optimizers.Adam(lr=0.0002)\n",
    "loss_f = tf.keras.losses.CategoricalCrossentropy(from_logits=True)\n",
    "PiczakNet.compile(optimizer=opt, loss=loss_f, metrics=[\"accuracy\"])"
   ]
  },
  {
   "cell_type": "code",
   "execution_count": 9,
   "id": "particular-interview",
   "metadata": {},
   "outputs": [],
   "source": [
    "training_dataset = ESC.CreateTrainingSet(f1p, f2p, f3p, lf1p, lf2p, lf3p, batch_size=128)\n",
    "validation_dataset = ESC.CreateValidationSet(f4p, lf4p, batch_size=128)"
   ]
  },
  {
   "cell_type": "code",
   "execution_count": 10,
   "id": "dynamic-penetration",
   "metadata": {},
   "outputs": [
    {
     "name": "stdout",
     "output_type": "stream",
     "text": [
      "Epoch  1: \t t-loss: 3.481455 \t t-acc: 0.076620 \t v-loss: 3.271623 \t v-acc: 0.130388 \t time: 58.102\n",
      "Epoch  2: \t t-loss: 3.048651 \t t-acc: 0.155544 \t v-loss: 3.108587 \t v-acc: 0.183459 \t time: 51.584\n",
      "Epoch  3: \t t-loss: 2.813933 \t t-acc: 0.209255 \t v-loss: 3.024453 \t v-acc: 0.185614 \t time: 51.348\n",
      "Epoch  4: \t t-loss: 2.621919 \t t-acc: 0.255083 \t v-loss: 3.012864 \t v-acc: 0.167295 \t time: 51.873\n",
      "Epoch  5: \t t-loss: 2.449087 \t t-acc: 0.300443 \t v-loss: 3.075377 \t v-acc: 0.175108 \t time: 52.057\n",
      "Epoch  6: \t t-loss: 2.312200 \t t-acc: 0.331010 \t v-loss: 3.166260 \t v-acc: 0.183728 \t time: 51.912\n",
      "Epoch  7: \t t-loss: 2.177044 \t t-acc: 0.367050 \t v-loss: 3.431542 \t v-acc: 0.160291 \t time: 51.707\n",
      "Epoch  8: \t t-loss: 2.061697 \t t-acc: 0.398123 \t v-loss: 3.428981 \t v-acc: 0.164871 \t time: 52.087\n",
      "Epoch  9: \t t-loss: 1.954136 \t t-acc: 0.424758 \t v-loss: 3.688426 \t v-acc: 0.153017 \t time: 51.368\n",
      "Epoch 10: \t t-loss: 1.865808 \t t-acc: 0.447447 \t v-loss: 3.735313 \t v-acc: 0.150323 \t time: 52.024\n",
      "Epoch 11: \t t-loss: 1.776688 \t t-acc: 0.474632 \t v-loss: 4.017531 \t v-acc: 0.139009 \t time: 51.443\n",
      "Epoch 12: \t t-loss: 1.696607 \t t-acc: 0.494258 \t v-loss: 3.980371 \t v-acc: 0.142241 \t time: 52.087\n",
      "Epoch 13: \t t-loss: 1.630253 \t t-acc: 0.510476 \t v-loss: 4.257669 \t v-acc: 0.143858 \t time: 52.105\n",
      "Epoch 14: \t t-loss: 1.566277 \t t-acc: 0.528097 \t v-loss: 4.359524 \t v-acc: 0.133082 \t time: 51.969\n",
      "Epoch 15: \t t-loss: 1.503561 \t t-acc: 0.548798 \t v-loss: 4.574421 \t v-acc: 0.140894 \t time: 51.322\n"
     ]
    }
   ],
   "source": [
    "max_epochs = 15\n",
    "\n",
    "epoch_loss= []\n",
    "epoch_acc = []\n",
    "\n",
    "epoch_vl = []\n",
    "epoch_va = []\n",
    "\n",
    "# Loop over the epochs\n",
    "for epoch in range(max_epochs):\n",
    "\n",
    "    \n",
    "    step_loss = []\n",
    "    step_acc = []\n",
    "    \n",
    "    step_vl = []\n",
    "    step_va = []\n",
    "    \n",
    "    start = time.time()\n",
    "    # train over mini-batches\n",
    "    for x_batch, y_batch in training_dataset:\n",
    "        \n",
    "        # train on batch\n",
    "        step_stats = PiczakNet.train_on_batch(x_batch, y_batch)\n",
    "        \n",
    "        # save loss and accuracy\n",
    "        step_loss.append(step_stats[0])\n",
    "        step_acc.append(step_stats[1])\n",
    "        \n",
    "    # compute validation stats\n",
    "    for x_batch, y_batch in validation_dataset:\n",
    "        \n",
    "        # compute validation stats\n",
    "        val_stats = PiczakNet.test_on_batch(x_batch, y_batch)\n",
    "        \n",
    "        # save loss and accuracy\n",
    "        step_vl.append(val_stats[0])\n",
    "        step_va.append(val_stats[1])\n",
    "    end = time.time()\n",
    "        \n",
    "    # Save the mean loss and accuracy of the entire epoch\n",
    "    epoch_loss.append(np.mean(step_loss))\n",
    "    epoch_acc.append(np.mean(step_acc))\n",
    "    epoch_vl.append(np.mean(step_vl))\n",
    "    epoch_va.append(np.mean(step_va))\n",
    "    \n",
    "    # Print epoch training stats\n",
    "    print(\"Epoch %2d: \\t t-loss: %3.6f \\t t-acc: %.6f \\t v-loss: %3.6f \\t v-acc: %.6f \\t time: %3.3f\" % (epoch + 1, epoch_loss[-1], epoch_acc[-1], epoch_vl[-1], epoch_va[-1], (end - start)))\n",
    "    "
   ]
  },
  {
   "cell_type": "markdown",
   "id": "interior-defeat",
   "metadata": {},
   "source": [
    "print(f1p[0, :, :, 0].shape)\n",
    "plt.figure()\n",
    "for elem in f1p[5, :, :, 0]:\n",
    "    plt.plot(elem)\n",
    "plt.show()"
   ]
  },
  {
   "cell_type": "code",
   "execution_count": 12,
   "id": "binding-riding",
   "metadata": {},
   "outputs": [
    {
     "data": {
      "image/png": "[encoded data removed]",
      "text/plain": [
       "<Figure size 432x288 with 1 Axes>"
      ]
     },
     "metadata": {
      "needs_background": "light"
     },
     "output_type": "display_data"
    }
   ],
   "source": [
    "plt.figure()\n",
    "plt.plot(epoch_loss, label='T-loss')\n",
    "plt.plot(epoch_vl, label='V-loss')\n",
    "plt.title('Loss plot')\n",
    "plt.grid()\n",
    "plt.legend()\n",
    "plt.show()"
   ]
  },
  {
   "cell_type": "code",
   "execution_count": 13,
   "id": "formal-training",
   "metadata": {},
   "outputs": [
    {
     "data": {
      "image/png": "[encoded data removed]",
      "text/plain": [
       "<Figure size 432x288 with 1 Axes>"
      ]
     },
     "metadata": {
      "needs_background": "light"
     },
     "output_type": "display_data"
    }
   ],
   "source": [
    "plt.figure()\n",
    "plt.plot(epoch_acc, label='T-acc')\n",
    "plt.plot(epoch_va, label='V-acc')\n",
    "plt.title('Accuracy plot')\n",
    "plt.grid()\n",
    "plt.legend()\n",
    "plt.show()"
   ]
  },
  {
   "cell_type": "code",
   "execution_count": null,
   "id": "hidden-danish",
   "metadata": {},
   "outputs": [],
   "source": []
  }
 ],
 "metadata": {
  "kernelspec": {
   "display_name": "Python 3",
   "language": "python",
   "name": "python3"
  },
  "language_info": {
   "codemirror_mode": {
    "name": "ipython",
    "version": 3
   },
   "file_extension": ".py",
   "mimetype": "text/x-python",
   "name": "python",
   "nbconvert_exporter": "python",
   "pygments_lexer": "ipython3",
   "version": "3.7.9"
  }
 },
 "nbformat": 4,
 "nbformat_minor": 5
}
